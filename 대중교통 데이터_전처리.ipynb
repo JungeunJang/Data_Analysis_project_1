{
 "cells": [
  {
   "cell_type": "code",
   "execution_count": 124,
   "metadata": {},
   "outputs": [
    {
     "output_type": "execute_result",
     "data": {
      "text/plain": "       사용월  호선명 지하철역  유임승차인원  무임승차인원  유임하차인원  무임하차인원  역이름  역지역         위도  \\\n0   201911  9호선   노들  111792   34547   93906   31547  노들역  수도권  37.512658   \n1   201910  9호선   노들  124341   37144  107477   34030  노들역  수도권  37.512658   \n2   201909  9호선   노들  103933   32943   88390   30526  노들역  수도권  37.512658   \n3   201908  9호선   노들  108640   33017   91947   30465  노들역  수도권  37.512658   \n4   201907  9호선   노들  112952   34559   95248   31933  노들역  수도권  37.512658   \n..     ...  ...  ...     ...     ...     ...     ...  ...  ...        ...   \n95  201910  중앙선   신원    4622    4191    3434    3603  신원역  수도권  37.525575   \n96  201909  중앙선   신원    3949    3791    3158    3336  신원역  수도권  37.525575   \n97  201908  중앙선   신원    3477    3051    3005    2589  신원역  수도권  37.525575   \n98  201907  중앙선   신원    3560    3010    3125    2515  신원역  수도권  37.525575   \n99  201907  중앙선   신원    3560    3010    3125    2515  신원역  수도권  37.525575   \n\n            경도    호선 station_name  \n0   126.953082  09호선           노들  \n1   126.953082  09호선           노들  \n2   126.953082  09호선           노들  \n3   126.953082  09호선           노들  \n4   126.953082  09호선           노들  \n..         ...   ...          ...  \n95  127.373074   경의선           신원  \n96  127.373074   경의선           신원  \n97  127.373074   경의선           신원  \n98  127.373074   경의선           신원  \n99  127.373074   경의선           신원  \n\n[100 rows x 13 columns]",
      "text/html": "<div>\n<style scoped>\n    .dataframe tbody tr th:only-of-type {\n        vertical-align: middle;\n    }\n\n    .dataframe tbody tr th {\n        vertical-align: top;\n    }\n\n    .dataframe thead th {\n        text-align: right;\n    }\n</style>\n<table border=\"1\" class=\"dataframe\">\n  <thead>\n    <tr style=\"text-align: right;\">\n      <th></th>\n      <th>사용월</th>\n      <th>호선명</th>\n      <th>지하철역</th>\n      <th>유임승차인원</th>\n      <th>무임승차인원</th>\n      <th>유임하차인원</th>\n      <th>무임하차인원</th>\n      <th>역이름</th>\n      <th>역지역</th>\n      <th>위도</th>\n      <th>경도</th>\n      <th>호선</th>\n      <th>station_name</th>\n    </tr>\n  </thead>\n  <tbody>\n    <tr>\n      <th>0</th>\n      <td>201911</td>\n      <td>9호선</td>\n      <td>노들</td>\n      <td>111792</td>\n      <td>34547</td>\n      <td>93906</td>\n      <td>31547</td>\n      <td>노들역</td>\n      <td>수도권</td>\n      <td>37.512658</td>\n      <td>126.953082</td>\n      <td>09호선</td>\n      <td>노들</td>\n    </tr>\n    <tr>\n      <th>1</th>\n      <td>201910</td>\n      <td>9호선</td>\n      <td>노들</td>\n      <td>124341</td>\n      <td>37144</td>\n      <td>107477</td>\n      <td>34030</td>\n      <td>노들역</td>\n      <td>수도권</td>\n      <td>37.512658</td>\n      <td>126.953082</td>\n      <td>09호선</td>\n      <td>노들</td>\n    </tr>\n    <tr>\n      <th>2</th>\n      <td>201909</td>\n      <td>9호선</td>\n      <td>노들</td>\n      <td>103933</td>\n      <td>32943</td>\n      <td>88390</td>\n      <td>30526</td>\n      <td>노들역</td>\n      <td>수도권</td>\n      <td>37.512658</td>\n      <td>126.953082</td>\n      <td>09호선</td>\n      <td>노들</td>\n    </tr>\n    <tr>\n      <th>3</th>\n      <td>201908</td>\n      <td>9호선</td>\n      <td>노들</td>\n      <td>108640</td>\n      <td>33017</td>\n      <td>91947</td>\n      <td>30465</td>\n      <td>노들역</td>\n      <td>수도권</td>\n      <td>37.512658</td>\n      <td>126.953082</td>\n      <td>09호선</td>\n      <td>노들</td>\n    </tr>\n    <tr>\n      <th>4</th>\n      <td>201907</td>\n      <td>9호선</td>\n      <td>노들</td>\n      <td>112952</td>\n      <td>34559</td>\n      <td>95248</td>\n      <td>31933</td>\n      <td>노들역</td>\n      <td>수도권</td>\n      <td>37.512658</td>\n      <td>126.953082</td>\n      <td>09호선</td>\n      <td>노들</td>\n    </tr>\n    <tr>\n      <th>...</th>\n      <td>...</td>\n      <td>...</td>\n      <td>...</td>\n      <td>...</td>\n      <td>...</td>\n      <td>...</td>\n      <td>...</td>\n      <td>...</td>\n      <td>...</td>\n      <td>...</td>\n      <td>...</td>\n      <td>...</td>\n      <td>...</td>\n    </tr>\n    <tr>\n      <th>95</th>\n      <td>201910</td>\n      <td>중앙선</td>\n      <td>신원</td>\n      <td>4622</td>\n      <td>4191</td>\n      <td>3434</td>\n      <td>3603</td>\n      <td>신원역</td>\n      <td>수도권</td>\n      <td>37.525575</td>\n      <td>127.373074</td>\n      <td>경의선</td>\n      <td>신원</td>\n    </tr>\n    <tr>\n      <th>96</th>\n      <td>201909</td>\n      <td>중앙선</td>\n      <td>신원</td>\n      <td>3949</td>\n      <td>3791</td>\n      <td>3158</td>\n      <td>3336</td>\n      <td>신원역</td>\n      <td>수도권</td>\n      <td>37.525575</td>\n      <td>127.373074</td>\n      <td>경의선</td>\n      <td>신원</td>\n    </tr>\n    <tr>\n      <th>97</th>\n      <td>201908</td>\n      <td>중앙선</td>\n      <td>신원</td>\n      <td>3477</td>\n      <td>3051</td>\n      <td>3005</td>\n      <td>2589</td>\n      <td>신원역</td>\n      <td>수도권</td>\n      <td>37.525575</td>\n      <td>127.373074</td>\n      <td>경의선</td>\n      <td>신원</td>\n    </tr>\n    <tr>\n      <th>98</th>\n      <td>201907</td>\n      <td>중앙선</td>\n      <td>신원</td>\n      <td>3560</td>\n      <td>3010</td>\n      <td>3125</td>\n      <td>2515</td>\n      <td>신원역</td>\n      <td>수도권</td>\n      <td>37.525575</td>\n      <td>127.373074</td>\n      <td>경의선</td>\n      <td>신원</td>\n    </tr>\n    <tr>\n      <th>99</th>\n      <td>201907</td>\n      <td>중앙선</td>\n      <td>신원</td>\n      <td>3560</td>\n      <td>3010</td>\n      <td>3125</td>\n      <td>2515</td>\n      <td>신원역</td>\n      <td>수도권</td>\n      <td>37.525575</td>\n      <td>127.373074</td>\n      <td>경의선</td>\n      <td>신원</td>\n    </tr>\n  </tbody>\n</table>\n<p>100 rows × 13 columns</p>\n</div>"
     },
     "metadata": {},
     "execution_count": 124
    }
   ],
   "source": [
    "import pandas as pd\n",
    "import numpy as np\n",
    "\n",
    "sub = pd.read_csv('subway_month.csv', encoding='cp949')\n",
    "sub.drop('작업일자', axis = 1, inplace = True)\n",
    "sub\n",
    "sub2 = pd.pivot_table(sub, index=['사용월', '호선명','지하철역'], aggfunc=np.sum)\n",
    "\n",
    "\n",
    "sub_loc = pd.read_csv('지하철노선위경도정보.csv', encoding='cp949')\n",
    "sub_loc\n",
    "\n",
    "sub_name = []\n",
    "\n",
    "for name in sub_loc['역이름']:\n",
    "    sub_name.append(str(name[:-1]))\n",
    "\n",
    "sub_loc['station_name'] = sub_name\n",
    "sub_loc\n",
    "\n",
    "# site.merge(visitedSubset, left_on = 'name', right_on  = 'site')\n",
    "sub4 = sub.merge(sub_loc, left_on = '지하철역', right_on = 'station_name')\n",
    "sub4.to_csv('C:\\Python37_Project\\\\sub4.csv', encoding = 'utf-8')\n",
    "sub4.head(100)"
   ]
  },
  {
   "cell_type": "code",
   "execution_count": 41,
   "metadata": {},
   "outputs": [
    {
     "output_type": "execute_result",
     "data": {
      "text/plain": "Empty DataFrame\nColumns: [date, 노선ID, 노선번호, 표준버스정류장ID, 버스정류정ARS, 역명, 총승차수, 총하차수]\nIndex: []",
      "text/html": "<div>\n<style scoped>\n    .dataframe tbody tr th:only-of-type {\n        vertical-align: middle;\n    }\n\n    .dataframe tbody tr th {\n        vertical-align: top;\n    }\n\n    .dataframe thead th {\n        text-align: right;\n    }\n</style>\n<table border=\"1\" class=\"dataframe\">\n  <thead>\n    <tr style=\"text-align: right;\">\n      <th></th>\n      <th>date</th>\n      <th>노선ID</th>\n      <th>노선번호</th>\n      <th>표준버스정류장ID</th>\n      <th>버스정류정ARS</th>\n      <th>역명</th>\n      <th>총승차수</th>\n      <th>총하차수</th>\n    </tr>\n  </thead>\n  <tbody>\n  </tbody>\n</table>\n</div>"
     },
     "metadata": {},
     "execution_count": 41
    }
   ],
   "source": [
    "import pandas as pd\n",
    "\n",
    "bus_geton = pd.read_csv('bus_geton_2019.csv', encoding='cp949')\n",
    "bus_geton['total'] = bus_geton.iloc[:,1:22].sum(axis=1)\n",
    "\n",
    "bus_geton_total=bus_geton['total']\n",
    "\n",
    "bus_2019 = pd.read_csv('bus_2019_1.csv', encoding='cp949')\n",
    "\n",
    "bus_2019_1 = bus_2019.iloc[:,1:8]\n",
    "bus_2019_2 = pd.concat([bus_2019_1, bus_geton_total], axis =1)\n",
    "bus_2019_2\n",
    "\n",
    "bus_getoff = pd.read_csv('bus_getoff_2019.csv', encoding='cp949')\n",
    "bus_getoff['getofftotal'] = bus_getoff.iloc[:,1:22].sum(axis=1)\n",
    "bus_getoff_total = bus_getoff['getofftotal']\n",
    "\n",
    "bus_2019_3 = pd.concat([bus_2019_2, bus_getoff_total], axis =1)\n",
    "bus_2019_3.drop('노선명', axis = 1, inplace = True)\n",
    "\n",
    "bus_2019_3.columns = ['date', '노선ID','노선번호','표준버스정류장ID','버스정류정ARS','역명','총승차수','총하차수']\n",
    "\n",
    "bus_2019_3.to_csv('C:\\Python37_Project\\\\bus_2019_3.csv', encoding = 'utf-8')\n",
    "\n",
    "\n",
    "bus_2019_3[bus_2019_3['노선번호'] == '마포_']"
   ]
  },
  {
   "cell_type": "code",
   "execution_count": 37,
   "metadata": {},
   "outputs": [],
   "source": [
    "import pandas as pd\n",
    "bus_geton_2018 = pd.read_csv('bus_geton_2018.csv')\n",
    "bus_geton_2018['getontotal'] = bus_geton_2018.iloc[:, 1:22].sum(axis=1)\n",
    "\n",
    "# bus_geton_2018\n",
    "bus_geton_2018_total = bus_geton_2018['getontotal']\n",
    "bus_geton_2018_total\n",
    "\n",
    "bus_2018 = pd.read_csv('bus_2018.csv', encoding='cp949')\n",
    "bus_2018_1 = bus_2018.iloc[:,:7]\n",
    "\n",
    "bus_2018_2 = pd.concat([bus_2018_1, bus_geton_2018_total], axis=1)\n",
    "bus_2018_2\n",
    "\n",
    "bus_getoff_2018 = pd.read_csv('bus_getoff_2018.csv')\n",
    "bus_getoff_2018['getofftotal'] = bus_getoff_2018.iloc[:, 1:22].sum(axis=1)\n",
    "\n",
    "bus_getoff_2018_total = bus_getoff_2018['getofftotal']\n",
    "bus_getoff_2018_total\n",
    "\n",
    "bus_2018_3 = pd.concat([bus_2018_2, bus_getoff_2018_total], axis=1)\n",
    "bus_2018_3.drop('bus_route_nm', axis=1, inplace=True)\n",
    "\n",
    "bus_2018_3.to_csv('bus_2018_3.csv', encoding='utf-8')"
   ]
  },
  {
   "cell_type": "code",
   "execution_count": 54,
   "metadata": {},
   "outputs": [],
   "source": [
    "bus_geton_2017 = pd.read_csv('bus_geton_2017.csv')\n",
    "bus_geton_2017['getontotal'] = bus_geton_2017.iloc[:, 1:22].sum(axis=1)\n",
    "\n",
    "\n",
    "bus_geton_2017_total = bus_geton_2017['getontotal']\n",
    "bus_geton_2017_total\n",
    "\n",
    "bus_2017 = pd.read_csv('bus_2017.csv', encoding='cp949')\n",
    "bus_2017_1 = bus_2017.iloc[:,:7]\n",
    "bus_2017_1\n",
    "\n",
    "bus_2017_2 = pd.concat([bus_2017_1, bus_geton_2017_total], axis=1)\n",
    "bus_2017_2\n",
    "\n",
    "bus_getoff_2017 = pd.read_csv('bus_getoff_2017.csv')\n",
    "bus_getoff_2017['getofftotal'] = bus_getoff_2017.iloc[:, 1:22].sum(axis=1)\n",
    "\n",
    "bus_getoff_2017_total = bus_getoff_2018['getofftotal']\n",
    "bus_getoff_2017_total\n",
    "\n",
    "bus_2017_3 = pd.concat([bus_2017_2, bus_getoff_2017_total], axis=1)\n",
    "bus_2017_3.drop('bus_route_nm', axis=1, inplace=True)\n",
    "bus_2017_3\n",
    "bus_2017_3.to_csv('bus_2017_3.csv', encoding='utf-8')"
   ]
  },
  {
   "cell_type": "code",
   "execution_count": 3,
   "metadata": {},
   "outputs": [],
   "source": [
    "import pandas as pd\n",
    "bus_2017 = pd.read_csv('bus_2017.csv', encoding='cp949')\n",
    "bus_2017.drop('work_dt', axis=1, inplace = True)\n",
    "bus_2017.drop('work_dttm', axis=1, inplace = True)\n",
    "\n",
    "# bus_2017.info()\n",
    "\n",
    "# bus_2017[bus_2017[filter1]]\n",
    "bus_ride_2017 = bus_2017.iloc[:, [7,9,11,13,15,17,19,21,23,25,27,29,31,33,35,37,39,41,43,45,47,49,51,53]]\n",
    "bus_2017['total_ride'] = bus_ride_2017.sum(axis=1)\n",
    "\n",
    "bus_alight_2017 = bus_2017.iloc[:, [8,10,12,14,16,18,20,22,24,26,28,30,32,34,36,38,40,42,44,46,48,50,52,54]]\n",
    "bus_2017['total_alight'] = bus_alight_2017.sum(axis=1)\n",
    "\n",
    "bus_info = bus_2017.iloc[:,0:7]\n",
    "bus_total = bus_2017.iloc[:,55:]"
   ]
  },
  {
   "cell_type": "code",
   "execution_count": 79,
   "metadata": {},
   "outputs": [
    {
     "output_type": "stream",
     "name": "stdout",
     "text": "<class 'pandas.core.frame.DataFrame'>\nRangeIndex: 462801 entries, 0 to 462800\nData columns (total 8 columns):\n #   Column        Non-Null Count   Dtype \n---  ------        --------------   ----- \n 0   use_mon       462801 non-null  int64 \n 1   bus_route_id  462801 non-null  int64 \n 2   bus_route_no  462801 non-null  object\n 3   stnd_bsst_id  462801 non-null  int64 \n 4   bsst_ars_no   462801 non-null  object\n 5   bus_sta_nm    462801 non-null  object\n 6   total_ride    462801 non-null  int64 \n 7   total_alight  462801 non-null  int64 \ndtypes: int64(5), object(3)\nmemory usage: 28.2+ MB\n"
    }
   ],
   "source": [
    "bus_info = bus_2017.iloc[:,0:7]\n",
    "bus_total = bus_2017.iloc[:,55:]\n",
    "\n",
    "bus_2017_final = pd.concat([bus_info, bus_total], axis = 1)\n",
    "bus_2017_final.drop('bus_route_nm',axis=1, inplace=True)\n",
    "\n",
    "bus_2017_final.to_csv('bus_2017_final.csv', encoding='utf-8')\n",
    "\n",
    "bus_2017_final.info()"
   ]
  },
  {
   "cell_type": "code",
   "execution_count": 43,
   "metadata": {},
   "outputs": [
    {
     "output_type": "execute_result",
     "data": {
      "text/plain": "          bus_sta_nm  total_ride  total_alight  stnd_bsst_id bsst_ars_no\n0         (구)단대동주민센터        6352          6383     204000140       48049\n1         (구)단대동주민센터        6352          6383     205000111       49040\n2         (구)단대동주민센터        6297          6234     204000140       48049\n3         (구)단대동주민센터        6297          6234     205000111       49040\n4         (구)단대동주민센터        7443          7071     204000140       48049\n...              ...         ...           ...           ...         ...\n152286    에이스하이엔드10차        1761          1121     117000225       18688\n152287     종로4가.탑골공원        6835          5467     100000390        1015\n152288     종로4가.탑골공원        6835          5467     100000391        1016\n152289  종로6가.동대문종합시장        2105          2342     100000396        1021\n152290  종로6가.동대문종합시장        2105          2342     100000397        1022\n\n[152291 rows x 5 columns]",
      "text/html": "<div>\n<style scoped>\n    .dataframe tbody tr th:only-of-type {\n        vertical-align: middle;\n    }\n\n    .dataframe tbody tr th {\n        vertical-align: top;\n    }\n\n    .dataframe thead th {\n        text-align: right;\n    }\n</style>\n<table border=\"1\" class=\"dataframe\">\n  <thead>\n    <tr style=\"text-align: right;\">\n      <th></th>\n      <th>bus_sta_nm</th>\n      <th>total_ride</th>\n      <th>total_alight</th>\n      <th>stnd_bsst_id</th>\n      <th>bsst_ars_no</th>\n    </tr>\n  </thead>\n  <tbody>\n    <tr>\n      <th>0</th>\n      <td>(구)단대동주민센터</td>\n      <td>6352</td>\n      <td>6383</td>\n      <td>204000140</td>\n      <td>48049</td>\n    </tr>\n    <tr>\n      <th>1</th>\n      <td>(구)단대동주민센터</td>\n      <td>6352</td>\n      <td>6383</td>\n      <td>205000111</td>\n      <td>49040</td>\n    </tr>\n    <tr>\n      <th>2</th>\n      <td>(구)단대동주민센터</td>\n      <td>6297</td>\n      <td>6234</td>\n      <td>204000140</td>\n      <td>48049</td>\n    </tr>\n    <tr>\n      <th>3</th>\n      <td>(구)단대동주민센터</td>\n      <td>6297</td>\n      <td>6234</td>\n      <td>205000111</td>\n      <td>49040</td>\n    </tr>\n    <tr>\n      <th>4</th>\n      <td>(구)단대동주민센터</td>\n      <td>7443</td>\n      <td>7071</td>\n      <td>204000140</td>\n      <td>48049</td>\n    </tr>\n    <tr>\n      <th>...</th>\n      <td>...</td>\n      <td>...</td>\n      <td>...</td>\n      <td>...</td>\n      <td>...</td>\n    </tr>\n    <tr>\n      <th>152286</th>\n      <td>에이스하이엔드10차</td>\n      <td>1761</td>\n      <td>1121</td>\n      <td>117000225</td>\n      <td>18688</td>\n    </tr>\n    <tr>\n      <th>152287</th>\n      <td>종로4가.탑골공원</td>\n      <td>6835</td>\n      <td>5467</td>\n      <td>100000390</td>\n      <td>1015</td>\n    </tr>\n    <tr>\n      <th>152288</th>\n      <td>종로4가.탑골공원</td>\n      <td>6835</td>\n      <td>5467</td>\n      <td>100000391</td>\n      <td>1016</td>\n    </tr>\n    <tr>\n      <th>152289</th>\n      <td>종로6가.동대문종합시장</td>\n      <td>2105</td>\n      <td>2342</td>\n      <td>100000396</td>\n      <td>1021</td>\n    </tr>\n    <tr>\n      <th>152290</th>\n      <td>종로6가.동대문종합시장</td>\n      <td>2105</td>\n      <td>2342</td>\n      <td>100000397</td>\n      <td>1022</td>\n    </tr>\n  </tbody>\n</table>\n<p>152291 rows × 5 columns</p>\n</div>"
     },
     "metadata": {},
     "execution_count": 43
    }
   ],
   "source": [
    "import re\n",
    "import pandas as pd\n",
    "\n",
    "bus_2017_final = pd.read_csv('bus_2017_final.csv')\n",
    "\n",
    "bus_2017_final.drop('Unnamed: 0', axis = 1, inplace = True)\n",
    "bus_sta_user = bus_2017_final.groupby(['use_mon','bus_sta_nm'])['total_ride', 'total_alight'].sum()\n",
    "bus_sta_user.to_csv('bus_station_user.csv', encoding = 'utf-8')\n",
    "\n",
    "\n",
    "station_info = bus_2017_final.iloc[:, 3:6]\n",
    "station_info.drop_duplicates(['bsst_ars_no'], keep = 'first', inplace = True)\n",
    "station_info\n",
    "bus_sta_user.merge(station_info, left_on='bus_sta_nm', right_on='bus_sta_nm' )"
   ]
  },
  {
   "cell_type": "code",
   "execution_count": 67,
   "metadata": {},
   "outputs": [],
   "source": [
    "bus_ride_alight = pd.read_csv('bus_station_user2.csv', encoding='cp949')\n",
    "\n",
    "bus_total=bus_ride_alight.merge(station_info, left_on='bus_sta_nm', right_on='bus_sta_nm' )"
   ]
  },
  {
   "cell_type": "code",
   "execution_count": 83,
   "metadata": {
    "tags": []
   },
   "outputs": [],
   "source": [
    "bus_loc=pd.read_csv('busStop_location.csv', encoding='cp949')\n",
    "# bus_total.info()\n",
    "# bus_loc.info()\n",
    "\n",
    "# bus_total['bsst_ars_no'].astype(str).astype(int)\n",
    "bus2017_total = bus_total.merge(bus_loc, left_on='stnd_bsst_id', right_on='표준ID')\n",
    "bus2017_total.drop(\"stnd_bsst_id\", axis = 1, inplace = True)\n",
    "bus2017_total.drop(\"bus_sta_nm\", axis = 1, inplace = True)\n",
    "bus2017_total.sort_values('use_mon', inplace = True)\n",
    "\n",
    "bus2017_total.to_csv('bus2017_total.csv', encoding = 'utf-8')\n"
   ]
  },
  {
   "cell_type": "code",
   "execution_count": 133,
   "metadata": {
    "tags": []
   },
   "outputs": [
    {
     "output_type": "stream",
     "name": "stdout",
     "text": "<class 'pandas.core.frame.DataFrame'>\nRangeIndex: 154085 entries, 0 to 154084\nData columns (total 4 columns):\n #   Column        Non-Null Count   Dtype\n---  ------        --------------   -----\n 0   use_mon       154085 non-null  int64\n 1   stnd_bsst_id  154085 non-null  int64\n 2   getontotal    154085 non-null  int64\n 3   getofftotal   154085 non-null  int64\ndtypes: int64(4)\nmemory usage: 4.7 MB\n"
    }
   ],
   "source": [
    "bus_2018 = pd.read_csv('bus_2018_3.csv')\n",
    "bus_2018.drop('Unnamed: 0', axis = 1, inplace = True)\n",
    "bus_2018.info()\n",
    "\n",
    "bus_2018_1 = bus_2018.groupby(['use_mon', 'stnd_bsst_id'])['getontotal', 'getofftotal'].sum()\n",
    "bus_2018_1.to_csv('bus_2018_rev.csv', encoding = 'utf-8')\n",
    "\n",
    "bus_2018_final = pd.read_csv('bus_2018_rev.csv')\n",
    "bus_2018_final.info()\n",
    "station_info_2018 = bus_2018.iloc[:, 3:6]\n",
    "station_info_2018.drop_duplicates(['bsst_ars_no'], keep = 'first', inplace = True)\n",
    "\n",
    "bus_2018_R = bus_2018_final.merge(station_info_2018, left_on = 'stnd_bsst_id', right_on = 'stnd_bsst_id')\n",
    "bus_2018_R\n",
    "bus_2018_r2 = bus_2018_R.merge(bus_loc, left_on='stnd_bsst_id', right_on='표준ID')\n",
    "\n",
    "\n",
    "bus_2018_r2.drop('stnd_bsst_id', axis =1 , inplace = True)\n",
    "bus_2018_r2.drop('bsst_ars_no', axis =1 , inplace = True)\n",
    "bus_2018_r2.drop('bus_sta_nm', axis =1 , inplace = True)\n",
    "\n",
    "bus_2018_r2.to_csv('bus2018_final.csv', encoding = 'utf-8')"
   ]
  },
  {
   "cell_type": "code",
   "execution_count": null,
   "metadata": {},
   "outputs": [],
   "source": []
  },
  {
   "cell_type": "code",
   "execution_count": 249,
   "metadata": {
    "tags": []
   },
   "outputs": [
    {
     "output_type": "stream",
     "name": "stdout",
     "text": "<class 'pandas.core.frame.DataFrame'>\nRangeIndex: 426153 entries, 0 to 426152\nData columns (total 8 columns):\n #   Column     Non-Null Count   Dtype \n---  ------     --------------   ----- \n 0   date       426153 non-null  int64 \n 1   노선ID       426153 non-null  int64 \n 2   노선번호       426153 non-null  object\n 3   표준버스정류장ID  426153 non-null  int64 \n 4   버스정류정ARS   426153 non-null  object\n 5   역명         426153 non-null  object\n 6   총승차수       426153 non-null  int64 \n 7   총하차수       426153 non-null  int64 \ndtypes: int64(5), object(3)\nmemory usage: 26.0+ MB\n<class 'pandas.core.frame.DataFrame'>\nRangeIndex: 141119 entries, 0 to 141118\nData columns (total 4 columns):\n #   Column     Non-Null Count   Dtype\n---  ------     --------------   -----\n 0   date       141119 non-null  int64\n 1   표준버스정류장ID  141119 non-null  int64\n 2   총승차수       141119 non-null  int64\n 3   총하차수       141119 non-null  int64\ndtypes: int64(4)\nmemory usage: 4.3 MB\n<class 'pandas.core.frame.DataFrame'>\nRangeIndex: 426153 entries, 0 to 426152\nData columns (total 3 columns):\n #   Column     Non-Null Count   Dtype \n---  ------     --------------   ----- \n 0   표준버스정류장ID  426153 non-null  int64 \n 1   버스정류정ARS   426153 non-null  object\n 2   역명         426153 non-null  object\ndtypes: int64(1), object(2)\nmemory usage: 9.8+ MB\n"
    },
    {
     "output_type": "execute_result",
     "data": {
      "text/plain": "          date   총승차수   총하차수  ...        정류장명         X좌표        Y좌표\n0       201901  10822  15600  ...     종로2가사거리  126.987750  37.569765\n1       201902   9570  13648  ...     종로2가사거리  126.987750  37.569765\n2       201903  11962  16490  ...     종로2가사거리  126.987750  37.569765\n3       201904  12265  16448  ...     종로2가사거리  126.987750  37.569765\n4       201905  13384  16954  ...     종로2가사거리  126.987750  37.569765\n...        ...    ...    ...  ...         ...         ...        ...\n116090  201911      5     75  ...     왕십리로교차로  127.038935  37.557720\n116091  201911      3     64  ...     왕십리로교차로  127.039134  37.557768\n116092  201911   4013  10285  ...     경동시장사거리  127.038109  37.577229\n116093  201911      3   3737  ...  중랑공영차고지.종점  127.104468  37.613384\n116094  201911     35   1540  ...    은평공영차고지앞  126.884144  37.591552\n\n[116095 rows x 9 columns]",
      "text/html": "<div>\n<style scoped>\n    .dataframe tbody tr th:only-of-type {\n        vertical-align: middle;\n    }\n\n    .dataframe tbody tr th {\n        vertical-align: top;\n    }\n\n    .dataframe thead th {\n        text-align: right;\n    }\n</style>\n<table border=\"1\" class=\"dataframe\">\n  <thead>\n    <tr style=\"text-align: right;\">\n      <th></th>\n      <th>date</th>\n      <th>총승차수</th>\n      <th>총하차수</th>\n      <th>역명</th>\n      <th>표준ID</th>\n      <th>ARS-ID</th>\n      <th>정류장명</th>\n      <th>X좌표</th>\n      <th>Y좌표</th>\n    </tr>\n  </thead>\n  <tbody>\n    <tr>\n      <th>0</th>\n      <td>201901</td>\n      <td>10822</td>\n      <td>15600</td>\n      <td>종로2가사거리</td>\n      <td>100000001</td>\n      <td>1001</td>\n      <td>종로2가사거리</td>\n      <td>126.987750</td>\n      <td>37.569765</td>\n    </tr>\n    <tr>\n      <th>1</th>\n      <td>201902</td>\n      <td>9570</td>\n      <td>13648</td>\n      <td>종로2가사거리</td>\n      <td>100000001</td>\n      <td>1001</td>\n      <td>종로2가사거리</td>\n      <td>126.987750</td>\n      <td>37.569765</td>\n    </tr>\n    <tr>\n      <th>2</th>\n      <td>201903</td>\n      <td>11962</td>\n      <td>16490</td>\n      <td>종로2가사거리</td>\n      <td>100000001</td>\n      <td>1001</td>\n      <td>종로2가사거리</td>\n      <td>126.987750</td>\n      <td>37.569765</td>\n    </tr>\n    <tr>\n      <th>3</th>\n      <td>201904</td>\n      <td>12265</td>\n      <td>16448</td>\n      <td>종로2가사거리</td>\n      <td>100000001</td>\n      <td>1001</td>\n      <td>종로2가사거리</td>\n      <td>126.987750</td>\n      <td>37.569765</td>\n    </tr>\n    <tr>\n      <th>4</th>\n      <td>201905</td>\n      <td>13384</td>\n      <td>16954</td>\n      <td>종로2가사거리</td>\n      <td>100000001</td>\n      <td>1001</td>\n      <td>종로2가사거리</td>\n      <td>126.987750</td>\n      <td>37.569765</td>\n    </tr>\n    <tr>\n      <th>...</th>\n      <td>...</td>\n      <td>...</td>\n      <td>...</td>\n      <td>...</td>\n      <td>...</td>\n      <td>...</td>\n      <td>...</td>\n      <td>...</td>\n      <td>...</td>\n    </tr>\n    <tr>\n      <th>116090</th>\n      <td>201911</td>\n      <td>5</td>\n      <td>75</td>\n      <td>왕십리로교차로</td>\n      <td>103900278</td>\n      <td>4893</td>\n      <td>왕십리로교차로</td>\n      <td>127.038935</td>\n      <td>37.557720</td>\n    </tr>\n    <tr>\n      <th>116091</th>\n      <td>201911</td>\n      <td>3</td>\n      <td>64</td>\n      <td>왕십리로교차로</td>\n      <td>103900279</td>\n      <td>4894</td>\n      <td>왕십리로교차로</td>\n      <td>127.039134</td>\n      <td>37.557768</td>\n    </tr>\n    <tr>\n      <th>116092</th>\n      <td>201911</td>\n      <td>4013</td>\n      <td>10285</td>\n      <td>경동시장사거리</td>\n      <td>105000555</td>\n      <td>6776</td>\n      <td>경동시장사거리</td>\n      <td>127.038109</td>\n      <td>37.577229</td>\n    </tr>\n    <tr>\n      <th>116093</th>\n      <td>201911</td>\n      <td>3</td>\n      <td>3737</td>\n      <td>중랑공영차고지.종점</td>\n      <td>106000480</td>\n      <td>7551</td>\n      <td>중랑공영차고지.종점</td>\n      <td>127.104468</td>\n      <td>37.613384</td>\n    </tr>\n    <tr>\n      <th>116094</th>\n      <td>201911</td>\n      <td>35</td>\n      <td>1540</td>\n      <td>은평공영차고지앞</td>\n      <td>111001125</td>\n      <td>12410</td>\n      <td>은평공영차고지앞</td>\n      <td>126.884144</td>\n      <td>37.591552</td>\n    </tr>\n  </tbody>\n</table>\n<p>116095 rows × 9 columns</p>\n</div>"
     },
     "metadata": {},
     "execution_count": 249
    }
   ],
   "source": [
    "bus_2019 = pd.read_csv('bus_2019_3.csv')\n",
    "bus_2019.drop('Unnamed: 0', axis = 1, inplace = True)\n",
    "bus_2019.info()\n",
    "\n",
    "\n",
    "bus_2019_1 = bus_2019.groupby(['date', '표준버스정류장ID'])['총승차수', '총하차수'].sum()\n",
    "bus_2019_1.to_csv('bus_2019_rev.csv', encoding = 'utf-8')\n",
    "\n",
    "bus_2019_final = pd.read_csv('bus_2019_rev.csv')\n",
    "bus_2019_final.info()\n",
    "station_info_2019 = bus_2019.iloc[:, 3:6]\n",
    "station_info_2019.info()\n",
    "station_info_2019.drop_duplicates(['표준버스정류장ID'], keep = 'first', inplace = True)\n",
    "\n",
    "bus_2019_R = bus_2019_final.merge(station_info_2019, left_on = '표준버스정류장ID', right_on = '표준버스정류장ID')\n",
    "bus_2019_R\n",
    "bus_2019_r2 = bus_2019_R.merge(bus_loc, left_on='표준버스정류장ID', right_on='표준ID')\n",
    "\n",
    "\n",
    "bus_2019_r2.drop('표준버스정류장ID', axis =1 , inplace = True)\n",
    "bus_2019_r2.drop('버스정류정ARS', axis =1 , inplace = True)\n",
    "\n",
    "bus_2019_r2\n",
    "# bus_2019_r2.drop('정류장명', axis =1 , inplace = True)\n"
   ]
  },
  {
   "cell_type": "code",
   "execution_count": 258,
   "metadata": {
    "tags": []
   },
   "outputs": [
    {
     "output_type": "stream",
     "name": "stdout",
     "text": "<class 'pandas.core.frame.DataFrame'>\nRangeIndex: 116095 entries, 0 to 116094\nData columns (total 8 columns):\n #   Column  Non-Null Count   Dtype  \n---  ------  --------------   -----  \n 0   사용년월    116095 non-null  int64  \n 1   표준ID    116095 non-null  int64  \n 2   ARS-ID  116095 non-null  int64  \n 3   정류장명    116095 non-null  object \n 4   총승차수    116095 non-null  int64  \n 5   총하차수    116095 non-null  int64  \n 6   X좌표     116095 non-null  float64\n 7   Y좌표     116095 non-null  float64\ndtypes: float64(2), int64(5), object(1)\nmemory usage: 7.1+ MB\n"
    }
   ],
   "source": [
    "\n",
    "# bus_2019_r2 = bus_2019_r2[['date', '표준ID','ARS-ID','정류장명','총승차수','총하차수','X좌표','Y좌표']]\n",
    "# bus_2019_r2.rename(columns = {'date':'사용년월'}, inplace=True)\n",
    "# bus_2019_r2.info()\n",
    "# bus_2019_r2.to_csv('bus2019_final.csv', encoding = 'utf-8')\n",
    "\n",
    "bus2019_final = pd.read_csv('bus2019_final.csv')\n",
    "bus2019_final.drop('Unnamed: 0', axis = 1, inplace = True)\n",
    "bus2019_final.info()\n",
    "# bus2019_final = bus2019_final[['date', '표준ID','ARS-ID','총승차수','총하차수','X좌표','Y좌표']]\n",
    "# bus2019_final.rename(columns = {'date':'사용년월'}, inplace=True)\n",
    "# bus2019_final\n",
    "# bus2019_final = bus2019_final.sort_values(['사용년월', '표준ID'])\n",
    "# bus2019_final.to_csv('bus2019_final.csv', encoding = 'utf-8')\n",
    "\n"
   ]
  },
  {
   "cell_type": "code",
   "execution_count": 228,
   "metadata": {
    "tags": []
   },
   "outputs": [
    {
     "output_type": "stream",
     "name": "stdout",
     "text": "<class 'pandas.core.frame.DataFrame'>\nRangeIndex: 123146 entries, 0 to 123145\nData columns (total 10 columns):\n #   Column        Non-Null Count   Dtype  \n---  ------        --------------   -----  \n 0   Unnamed: 0    123146 non-null  int64  \n 1   use_mon       123146 non-null  int64  \n 2   total_ride    123146 non-null  int64  \n 3   total_alight  123146 non-null  int64  \n 4   bsst_ars_no   123146 non-null  int64  \n 5   표준ID          123146 non-null  int64  \n 6   ARS-ID        123146 non-null  int64  \n 7   정류장명          123146 non-null  object \n 8   X좌표           123146 non-null  float64\n 9   Y좌표           123146 non-null  float64\ndtypes: float64(2), int64(7), object(1)\nmemory usage: 9.4+ MB\n"
    }
   ],
   "source": [
    "bus2017_final = pd.read_csv('bus2017_total.csv')\n",
    "bus2017_final.info()\n",
    "\n",
    "bus2017_final.drop('Unnamed: 0', axis=1, inplace=True)\n",
    "bus2017_final.drop('bsst_ars_no', axis=1, inplace=True)\n",
    "\n",
    "bus2017_final = bus2017_final[['use_mon', '표준ID', 'ARS-ID','정류장명','total_ride', 'total_alight', 'X좌표', 'Y좌표']]\n",
    "bus2017_final.rename(columns = {'use_mon':'사용년월', 'total_ride':'총승차수', 'total_alight':'총하차수'}, inplace = True )\n",
    "bus2017_final.sort_values(['사용년월', '표준ID'])\n",
    "bus2017_final.to_csv('bus2017_final.csv')"
   ]
  },
  {
   "cell_type": "code",
   "execution_count": 235,
   "metadata": {
    "tags": []
   },
   "outputs": [
    {
     "output_type": "stream",
     "name": "stdout",
     "text": "<class 'pandas.core.frame.DataFrame'>\nRangeIndex: 125659 entries, 0 to 125658\nData columns (total 9 columns):\n #   Column      Non-Null Count   Dtype  \n---  ------      --------------   -----  \n 0   Unnamed: 0  125659 non-null  int64  \n 1   사용년월        125659 non-null  int64  \n 2   표준ID        125659 non-null  int64  \n 3   ARS-ID      125659 non-null  int64  \n 4   정류장명        125659 non-null  object \n 5   총승차수        125659 non-null  int64  \n 6   총하차수        125659 non-null  int64  \n 7   X좌표         125659 non-null  float64\n 8   Y좌표         125659 non-null  float64\ndtypes: float64(2), int64(6), object(1)\nmemory usage: 8.6+ MB\n"
    },
    {
     "output_type": "error",
     "ename": "KeyError",
     "evalue": "\"['getofftotal', 'use_mon', 'getontotal'] not in index\"",
     "traceback": [
      "\u001b[1;31m---------------------------------------------------------------------------\u001b[0m",
      "\u001b[1;31mKeyError\u001b[0m                                  Traceback (most recent call last)",
      "\u001b[1;32m<ipython-input-235-5c6353f548c4>\u001b[0m in \u001b[0;36m<module>\u001b[1;34m\u001b[0m\n\u001b[0;32m      5\u001b[0m \u001b[1;31m# bus2017_final.drop('bsst_ars_no', axis=1, inplace=True)\u001b[0m\u001b[1;33m\u001b[0m\u001b[1;33m\u001b[0m\u001b[1;33m\u001b[0m\u001b[0m\n\u001b[0;32m      6\u001b[0m \u001b[1;33m\u001b[0m\u001b[0m\n\u001b[1;32m----> 7\u001b[1;33m \u001b[0mbus2018_final\u001b[0m \u001b[1;33m=\u001b[0m \u001b[0mbus2018_final\u001b[0m\u001b[1;33m[\u001b[0m\u001b[1;33m[\u001b[0m\u001b[1;34m'use_mon'\u001b[0m\u001b[1;33m,\u001b[0m \u001b[1;34m'표준ID'\u001b[0m\u001b[1;33m,\u001b[0m \u001b[1;34m'ARS-ID'\u001b[0m\u001b[1;33m,\u001b[0m\u001b[1;34m'정류장명'\u001b[0m\u001b[1;33m,\u001b[0m\u001b[1;34m'getontotal'\u001b[0m\u001b[1;33m,\u001b[0m \u001b[1;34m'getofftotal'\u001b[0m\u001b[1;33m,\u001b[0m \u001b[1;34m'X좌표'\u001b[0m\u001b[1;33m,\u001b[0m \u001b[1;34m'Y좌표'\u001b[0m\u001b[1;33m]\u001b[0m\u001b[1;33m]\u001b[0m\u001b[1;33m\u001b[0m\u001b[1;33m\u001b[0m\u001b[0m\n\u001b[0m\u001b[0;32m      8\u001b[0m \u001b[0mbus2018_final\u001b[0m\u001b[1;33m.\u001b[0m\u001b[0mrename\u001b[0m\u001b[1;33m(\u001b[0m\u001b[0mcolumns\u001b[0m \u001b[1;33m=\u001b[0m \u001b[1;33m{\u001b[0m\u001b[1;34m'use_mon'\u001b[0m\u001b[1;33m:\u001b[0m\u001b[1;34m'사용년월'\u001b[0m\u001b[1;33m,\u001b[0m \u001b[1;34m'getontotal'\u001b[0m\u001b[1;33m:\u001b[0m\u001b[1;34m'총승차수'\u001b[0m\u001b[1;33m,\u001b[0m \u001b[1;34m'getofftotal'\u001b[0m\u001b[1;33m:\u001b[0m\u001b[1;34m'총하차수'\u001b[0m\u001b[1;33m}\u001b[0m\u001b[1;33m,\u001b[0m \u001b[0minplace\u001b[0m \u001b[1;33m=\u001b[0m \u001b[1;32mTrue\u001b[0m \u001b[1;33m)\u001b[0m\u001b[1;33m\u001b[0m\u001b[1;33m\u001b[0m\u001b[0m\n\u001b[0;32m      9\u001b[0m \u001b[0mbus2018_final\u001b[0m \u001b[1;33m=\u001b[0m \u001b[0mbus2018_final\u001b[0m\u001b[1;33m.\u001b[0m\u001b[0msort_values\u001b[0m\u001b[1;33m(\u001b[0m\u001b[1;33m[\u001b[0m\u001b[1;34m'사용년월'\u001b[0m\u001b[1;33m,\u001b[0m \u001b[1;34m'표준ID'\u001b[0m\u001b[1;33m]\u001b[0m\u001b[1;33m)\u001b[0m\u001b[1;33m\u001b[0m\u001b[1;33m\u001b[0m\u001b[0m\n",
      "\u001b[1;32mC:\\python37\\lib\\site-packages\\pandas\\core\\frame.py\u001b[0m in \u001b[0;36m__getitem__\u001b[1;34m(self, key)\u001b[0m\n\u001b[0;32m   2804\u001b[0m             \u001b[1;32mif\u001b[0m \u001b[0mis_iterator\u001b[0m\u001b[1;33m(\u001b[0m\u001b[0mkey\u001b[0m\u001b[1;33m)\u001b[0m\u001b[1;33m:\u001b[0m\u001b[1;33m\u001b[0m\u001b[1;33m\u001b[0m\u001b[0m\n\u001b[0;32m   2805\u001b[0m                 \u001b[0mkey\u001b[0m \u001b[1;33m=\u001b[0m \u001b[0mlist\u001b[0m\u001b[1;33m(\u001b[0m\u001b[0mkey\u001b[0m\u001b[1;33m)\u001b[0m\u001b[1;33m\u001b[0m\u001b[1;33m\u001b[0m\u001b[0m\n\u001b[1;32m-> 2806\u001b[1;33m             \u001b[0mindexer\u001b[0m \u001b[1;33m=\u001b[0m \u001b[0mself\u001b[0m\u001b[1;33m.\u001b[0m\u001b[0mloc\u001b[0m\u001b[1;33m.\u001b[0m\u001b[0m_get_listlike_indexer\u001b[0m\u001b[1;33m(\u001b[0m\u001b[0mkey\u001b[0m\u001b[1;33m,\u001b[0m \u001b[0maxis\u001b[0m\u001b[1;33m=\u001b[0m\u001b[1;36m1\u001b[0m\u001b[1;33m,\u001b[0m \u001b[0mraise_missing\u001b[0m\u001b[1;33m=\u001b[0m\u001b[1;32mTrue\u001b[0m\u001b[1;33m)\u001b[0m\u001b[1;33m[\u001b[0m\u001b[1;36m1\u001b[0m\u001b[1;33m]\u001b[0m\u001b[1;33m\u001b[0m\u001b[1;33m\u001b[0m\u001b[0m\n\u001b[0m\u001b[0;32m   2807\u001b[0m \u001b[1;33m\u001b[0m\u001b[0m\n\u001b[0;32m   2808\u001b[0m         \u001b[1;31m# take() does not accept boolean indexers\u001b[0m\u001b[1;33m\u001b[0m\u001b[1;33m\u001b[0m\u001b[1;33m\u001b[0m\u001b[0m\n",
      "\u001b[1;32mC:\\python37\\lib\\site-packages\\pandas\\core\\indexing.py\u001b[0m in \u001b[0;36m_get_listlike_indexer\u001b[1;34m(self, key, axis, raise_missing)\u001b[0m\n\u001b[0;32m   1551\u001b[0m \u001b[1;33m\u001b[0m\u001b[0m\n\u001b[0;32m   1552\u001b[0m         self._validate_read_indexer(\n\u001b[1;32m-> 1553\u001b[1;33m             \u001b[0mkeyarr\u001b[0m\u001b[1;33m,\u001b[0m \u001b[0mindexer\u001b[0m\u001b[1;33m,\u001b[0m \u001b[0mo\u001b[0m\u001b[1;33m.\u001b[0m\u001b[0m_get_axis_number\u001b[0m\u001b[1;33m(\u001b[0m\u001b[0maxis\u001b[0m\u001b[1;33m)\u001b[0m\u001b[1;33m,\u001b[0m \u001b[0mraise_missing\u001b[0m\u001b[1;33m=\u001b[0m\u001b[0mraise_missing\u001b[0m\u001b[1;33m\u001b[0m\u001b[1;33m\u001b[0m\u001b[0m\n\u001b[0m\u001b[0;32m   1554\u001b[0m         )\n\u001b[0;32m   1555\u001b[0m         \u001b[1;32mreturn\u001b[0m \u001b[0mkeyarr\u001b[0m\u001b[1;33m,\u001b[0m \u001b[0mindexer\u001b[0m\u001b[1;33m\u001b[0m\u001b[1;33m\u001b[0m\u001b[0m\n",
      "\u001b[1;32mC:\\python37\\lib\\site-packages\\pandas\\core\\indexing.py\u001b[0m in \u001b[0;36m_validate_read_indexer\u001b[1;34m(self, key, indexer, axis, raise_missing)\u001b[0m\n\u001b[0;32m   1644\u001b[0m             \u001b[1;32mif\u001b[0m \u001b[1;32mnot\u001b[0m \u001b[1;33m(\u001b[0m\u001b[0mself\u001b[0m\u001b[1;33m.\u001b[0m\u001b[0mname\u001b[0m \u001b[1;33m==\u001b[0m \u001b[1;34m\"loc\"\u001b[0m \u001b[1;32mand\u001b[0m \u001b[1;32mnot\u001b[0m \u001b[0mraise_missing\u001b[0m\u001b[1;33m)\u001b[0m\u001b[1;33m:\u001b[0m\u001b[1;33m\u001b[0m\u001b[1;33m\u001b[0m\u001b[0m\n\u001b[0;32m   1645\u001b[0m                 \u001b[0mnot_found\u001b[0m \u001b[1;33m=\u001b[0m \u001b[0mlist\u001b[0m\u001b[1;33m(\u001b[0m\u001b[0mset\u001b[0m\u001b[1;33m(\u001b[0m\u001b[0mkey\u001b[0m\u001b[1;33m)\u001b[0m \u001b[1;33m-\u001b[0m \u001b[0mset\u001b[0m\u001b[1;33m(\u001b[0m\u001b[0max\u001b[0m\u001b[1;33m)\u001b[0m\u001b[1;33m)\u001b[0m\u001b[1;33m\u001b[0m\u001b[1;33m\u001b[0m\u001b[0m\n\u001b[1;32m-> 1646\u001b[1;33m                 \u001b[1;32mraise\u001b[0m \u001b[0mKeyError\u001b[0m\u001b[1;33m(\u001b[0m\u001b[1;34mf\"{not_found} not in index\"\u001b[0m\u001b[1;33m)\u001b[0m\u001b[1;33m\u001b[0m\u001b[1;33m\u001b[0m\u001b[0m\n\u001b[0m\u001b[0;32m   1647\u001b[0m \u001b[1;33m\u001b[0m\u001b[0m\n\u001b[0;32m   1648\u001b[0m             \u001b[1;31m# we skip the warning on Categorical/Interval\u001b[0m\u001b[1;33m\u001b[0m\u001b[1;33m\u001b[0m\u001b[1;33m\u001b[0m\u001b[0m\n",
      "\u001b[1;31mKeyError\u001b[0m: \"['getofftotal', 'use_mon', 'getontotal'] not in index\""
     ]
    }
   ],
   "source": [
    "bus2018_final = pd.read_csv('bus2018_final.csv')\n",
    "bus2018_final.info()\n",
    "\n",
    "bus2018_final.drop('Unnamed: 0', axis=1, inplace=True)\n",
    "# bus2017_final.drop('bsst_ars_no', axis=1, inplace=True)\n",
    "\n",
    "# bus2018_final = bus2018_final[['use_mon', '표준ID', 'ARS-ID','정류장명','getontotal', 'getofftotal', 'X좌표', 'Y좌표']]\n",
    "# bus2018_final.rename(columns = {'use_mon':'사용년월', 'getontotal':'총승차수', 'getofftotal':'총하차수'}, inplace = True )\n",
    "bus2018_final = bus2018_final.sort_values(['사용년월', '표준ID'])\n",
    "# bus2018_final.to_csv('bus2018_final.csv')"
   ]
  },
  {
   "cell_type": "code",
   "execution_count": 236,
   "metadata": {},
   "outputs": [],
   "source": [
    "bus2018_final = pd.read_csv('bus2018_final.csv')\n",
    "bus2018_final = bus2018_final.sort_values(['사용년월', '표준ID'])\n",
    "bus2018_final.drop('Unnamed: 0', axis = 1 , inplace = True)\n"
   ]
  },
  {
   "cell_type": "code",
   "execution_count": 262,
   "metadata": {},
   "outputs": [
    {
     "output_type": "execute_result",
     "data": {
      "text/plain": "          사용년월       표준ID  ARS-ID  ...   총하차수         X좌표        Y좌표\n0       201701  117000089   18175  ...   6861  126.906261  37.453615\n1       201701  111900018   12528  ...   3778  126.907223  37.604606\n2       201701  118000532   19456  ...  11223  126.902013  37.503807\n3       201701  120900164   21904  ...    502  126.949426  37.449036\n4       201701  121900137   22901  ...  51619  127.017915  37.485451\n...        ...        ...     ...  ...    ...         ...        ...\n123141  201712  121000131   22207  ...  31385  127.007759  37.509209\n123142  201712  122000095   23198  ...  90639  127.060975  37.511902\n123143  201712  110900019   11542  ...    511  127.061694  37.662265\n123144  201712  110900057   11796  ...   3289  127.061693  37.663186\n123145  201712  100000397    1022  ...   2342  127.005714  37.571127\n\n[123146 rows x 8 columns]",
      "text/html": "<div>\n<style scoped>\n    .dataframe tbody tr th:only-of-type {\n        vertical-align: middle;\n    }\n\n    .dataframe tbody tr th {\n        vertical-align: top;\n    }\n\n    .dataframe thead th {\n        text-align: right;\n    }\n</style>\n<table border=\"1\" class=\"dataframe\">\n  <thead>\n    <tr style=\"text-align: right;\">\n      <th></th>\n      <th>사용년월</th>\n      <th>표준ID</th>\n      <th>ARS-ID</th>\n      <th>정류장명</th>\n      <th>총승차수</th>\n      <th>총하차수</th>\n      <th>X좌표</th>\n      <th>Y좌표</th>\n    </tr>\n  </thead>\n  <tbody>\n    <tr>\n      <th>0</th>\n      <td>201701</td>\n      <td>117000089</td>\n      <td>18175</td>\n      <td>경남아파트</td>\n      <td>42804</td>\n      <td>6861</td>\n      <td>126.906261</td>\n      <td>37.453615</td>\n    </tr>\n    <tr>\n      <th>1</th>\n      <td>201701</td>\n      <td>111900018</td>\n      <td>12528</td>\n      <td>천사원입구.서북병원</td>\n      <td>2926</td>\n      <td>3778</td>\n      <td>126.907223</td>\n      <td>37.604606</td>\n    </tr>\n    <tr>\n      <th>2</th>\n      <td>201701</td>\n      <td>118000532</td>\n      <td>19456</td>\n      <td>신길건영아파트</td>\n      <td>12155</td>\n      <td>11223</td>\n      <td>126.902013</td>\n      <td>37.503807</td>\n    </tr>\n    <tr>\n      <th>3</th>\n      <td>201701</td>\n      <td>120900164</td>\n      <td>21904</td>\n      <td>제2파워플랜트</td>\n      <td>13</td>\n      <td>502</td>\n      <td>126.949426</td>\n      <td>37.449036</td>\n    </tr>\n    <tr>\n      <th>4</th>\n      <td>201701</td>\n      <td>121900137</td>\n      <td>22901</td>\n      <td>국제전자센터</td>\n      <td>52604</td>\n      <td>51619</td>\n      <td>127.017915</td>\n      <td>37.485451</td>\n    </tr>\n    <tr>\n      <th>...</th>\n      <td>...</td>\n      <td>...</td>\n      <td>...</td>\n      <td>...</td>\n      <td>...</td>\n      <td>...</td>\n      <td>...</td>\n      <td>...</td>\n    </tr>\n    <tr>\n      <th>123141</th>\n      <td>201712</td>\n      <td>121000131</td>\n      <td>22207</td>\n      <td>뉴코아아울렛</td>\n      <td>37540</td>\n      <td>31385</td>\n      <td>127.007759</td>\n      <td>37.509209</td>\n    </tr>\n    <tr>\n      <th>123142</th>\n      <td>201712</td>\n      <td>122000095</td>\n      <td>23198</td>\n      <td>무역센터</td>\n      <td>71964</td>\n      <td>90639</td>\n      <td>127.060975</td>\n      <td>37.511902</td>\n    </tr>\n    <tr>\n      <th>123143</th>\n      <td>201712</td>\n      <td>110900019</td>\n      <td>11542</td>\n      <td>상계주공8.9단지</td>\n      <td>4789</td>\n      <td>511</td>\n      <td>127.061694</td>\n      <td>37.662265</td>\n    </tr>\n    <tr>\n      <th>123144</th>\n      <td>201712</td>\n      <td>110900057</td>\n      <td>11796</td>\n      <td>상계주공8단지</td>\n      <td>153</td>\n      <td>3289</td>\n      <td>127.061693</td>\n      <td>37.663186</td>\n    </tr>\n    <tr>\n      <th>123145</th>\n      <td>201712</td>\n      <td>100000397</td>\n      <td>1022</td>\n      <td>종로6가.동대문종합시장</td>\n      <td>2105</td>\n      <td>2342</td>\n      <td>127.005714</td>\n      <td>37.571127</td>\n    </tr>\n  </tbody>\n</table>\n<p>123146 rows × 8 columns</p>\n</div>"
     },
     "metadata": {},
     "execution_count": 262
    }
   ],
   "source": [
    "bus2018_final\n",
    "bus2019_final\n",
    "bus2017_final"
   ]
  },
  {
   "cell_type": "code",
   "execution_count": 265,
   "metadata": {},
   "outputs": [],
   "source": [
    "bus_total = pd.concat([bus2017_final, bus2018_final, bus2019_final])\n",
    "bus_total.to_csv('bus_total.csv', encoding='utf-8')"
   ]
  },
  {
   "cell_type": "code",
   "execution_count": null,
   "metadata": {},
   "outputs": [],
   "source": []
  }
 ],
 "metadata": {
  "language_info": {
   "codemirror_mode": {
    "name": "ipython",
    "version": 3
   },
   "file_extension": ".py",
   "mimetype": "text/x-python",
   "name": "python",
   "nbconvert_exporter": "python",
   "pygments_lexer": "ipython3",
   "version": "3.7.7-final"
  },
  "orig_nbformat": 2,
  "kernelspec": {
   "name": "python37764bit4dda73a9a4c74a0399c4c617d3b49df0",
   "display_name": "Python 3.7.7 64-bit"
  }
 },
 "nbformat": 4,
 "nbformat_minor": 2
}