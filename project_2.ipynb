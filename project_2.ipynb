{
 "cells": [
  {
   "cell_type": "code",
   "execution_count": 14,
   "metadata": {},
   "outputs": [],
   "source": [
    "import pandas as pd\n",
    "import numpy as np\n",
    "\n",
    "subway = pd.read_csv('sub_final.csv', encoding='cp949')\n",
    "\n",
    "subway.drop('Unnamed: 0', axis = 1, inplace = True)\n",
    "subway.drop('station_name', axis=1, inplace = True)\n",
    "subway.drop('역지역', axis = 1, inplace = True)\n",
    " "
   ]
  },
  {
   "cell_type": "code",
   "execution_count": 22,
   "metadata": {},
   "outputs": [],
   "source": [
    "subway.to_csv(\"subway_final.csv\", encoding = 'utf-8')"
   ]
  },
  {
   "cell_type": "code",
   "execution_count": 21,
   "metadata": {},
   "outputs": [
    {
     "output_type": "execute_result",
     "data": {
      "text/plain": "Unnamed: 0    364900\n사용년월          364900\n표준ID          364900\nARS-ID        364900\n정류장명          364900\n총승차수          364900\n총하차수          364900\nX좌표           364900\nY좌표           364900\ndist_name     364900\ndtype: int64"
     },
     "metadata": {},
     "execution_count": 21
    }
   ],
   "source": [
    "bus = pd.read_csv('bus_total_final.csv')\n",
    "\n",
    "bus.isnull().count()"
   ]
  },
  {
   "cell_type": "code",
   "execution_count": 111,
   "metadata": {},
   "outputs": [
    {
     "output_type": "execute_result",
     "data": {
      "text/plain": "      호선명      역명   구명\n0     1호선     도봉산  도봉구\n1     1호선      도봉  도봉구\n2     1호선      방학  도봉구\n3     1호선      창동  도봉구\n4     1호선      녹천  도봉구\n..    ...     ...  ...\n354  우이신설      삼양  강북구\n355  우이신설   삼양사거리  강북구\n356  우이신설      솔샘  강북구\n357  우이신설  북한산보국문  성북구\n358  우이신설      정릉  성북구\n\n[288 rows x 3 columns]",
      "text/html": "<div>\n<style scoped>\n    .dataframe tbody tr th:only-of-type {\n        vertical-align: middle;\n    }\n\n    .dataframe tbody tr th {\n        vertical-align: top;\n    }\n\n    .dataframe thead th {\n        text-align: right;\n    }\n</style>\n<table border=\"1\" class=\"dataframe\">\n  <thead>\n    <tr style=\"text-align: right;\">\n      <th></th>\n      <th>호선명</th>\n      <th>역명</th>\n      <th>구명</th>\n    </tr>\n  </thead>\n  <tbody>\n    <tr>\n      <th>0</th>\n      <td>1호선</td>\n      <td>도봉산</td>\n      <td>도봉구</td>\n    </tr>\n    <tr>\n      <th>1</th>\n      <td>1호선</td>\n      <td>도봉</td>\n      <td>도봉구</td>\n    </tr>\n    <tr>\n      <th>2</th>\n      <td>1호선</td>\n      <td>방학</td>\n      <td>도봉구</td>\n    </tr>\n    <tr>\n      <th>3</th>\n      <td>1호선</td>\n      <td>창동</td>\n      <td>도봉구</td>\n    </tr>\n    <tr>\n      <th>4</th>\n      <td>1호선</td>\n      <td>녹천</td>\n      <td>도봉구</td>\n    </tr>\n    <tr>\n      <th>...</th>\n      <td>...</td>\n      <td>...</td>\n      <td>...</td>\n    </tr>\n    <tr>\n      <th>354</th>\n      <td>우이신설</td>\n      <td>삼양</td>\n      <td>강북구</td>\n    </tr>\n    <tr>\n      <th>355</th>\n      <td>우이신설</td>\n      <td>삼양사거리</td>\n      <td>강북구</td>\n    </tr>\n    <tr>\n      <th>356</th>\n      <td>우이신설</td>\n      <td>솔샘</td>\n      <td>강북구</td>\n    </tr>\n    <tr>\n      <th>357</th>\n      <td>우이신설</td>\n      <td>북한산보국문</td>\n      <td>성북구</td>\n    </tr>\n    <tr>\n      <th>358</th>\n      <td>우이신설</td>\n      <td>정릉</td>\n      <td>성북구</td>\n    </tr>\n  </tbody>\n</table>\n<p>288 rows × 3 columns</p>\n</div>"
     },
     "metadata": {},
     "execution_count": 111
    }
   ],
   "source": [
    "import pandas as pd\n",
    "import numpy as np\n",
    "\n",
    "subway = pd.read_csv('subway_final.csv', encoding='cp949')\n",
    "\n",
    "sub_loc = pd.read_csv('subway_dist_1.csv', encoding='cp949')\n",
    "sub_loc.drop_duplicates(['역명'], keep = 'first',inplace = True)\n",
    "sub_loc"
   ]
  },
  {
   "cell_type": "code",
   "execution_count": 74,
   "metadata": {},
   "outputs": [
    {
     "output_type": "execute_result",
     "data": {
      "text/plain": "       Unnamed: 0    date   line name   geton  getoff         위도          경도  \\\n0               0  201701    1호선  동대문  444100  503536  37.571664  127.010618   \n1             135  201701    4호선  동대문  689481  707144  37.571664  127.010618   \n2             564  201702    1호선  동대문  435123  496961  37.571664  127.010618   \n3             699  201702    4호선  동대문  727740  743728  37.571664  127.010618   \n4            1127  201703    1호선  동대문  514558  587333  37.571664  127.010618   \n...           ...     ...    ...  ...     ...     ...        ...         ...   \n11959       17906  201907  우이신설선   화계  105610   98705  37.634084  127.017492   \n11960       18497  201908  우이신설선   화계   99632   93308  37.634084  127.017492   \n11961       19087  201909  우이신설선   화계   99026   92317  37.634084  127.017492   \n11962       19678  201910  우이신설선   화계  109429  101575  37.634084  127.017492   \n11963       20268  201911  우이신설선   화계  103988   97004  37.634084  127.017492   \n\n        호선명   역명   구명  \n0       1호선  동대문  종로구  \n1       1호선  동대문  종로구  \n2       1호선  동대문  종로구  \n3       1호선  동대문  종로구  \n4       1호선  동대문  종로구  \n...     ...  ...  ...  \n11959  우이신설   화계  강북구  \n11960  우이신설   화계  강북구  \n11961  우이신설   화계  강북구  \n11962  우이신설   화계  강북구  \n11963  우이신설   화계  강북구  \n\n[11964 rows x 11 columns]",
      "text/html": "<div>\n<style scoped>\n    .dataframe tbody tr th:only-of-type {\n        vertical-align: middle;\n    }\n\n    .dataframe tbody tr th {\n        vertical-align: top;\n    }\n\n    .dataframe thead th {\n        text-align: right;\n    }\n</style>\n<table border=\"1\" class=\"dataframe\">\n  <thead>\n    <tr style=\"text-align: right;\">\n      <th></th>\n      <th>Unnamed: 0</th>\n      <th>date</th>\n      <th>line</th>\n      <th>name</th>\n      <th>geton</th>\n      <th>getoff</th>\n      <th>위도</th>\n      <th>경도</th>\n      <th>호선명</th>\n      <th>역명</th>\n      <th>구명</th>\n    </tr>\n  </thead>\n  <tbody>\n    <tr>\n      <th>0</th>\n      <td>0</td>\n      <td>201701</td>\n      <td>1호선</td>\n      <td>동대문</td>\n      <td>444100</td>\n      <td>503536</td>\n      <td>37.571664</td>\n      <td>127.010618</td>\n      <td>1호선</td>\n      <td>동대문</td>\n      <td>종로구</td>\n    </tr>\n    <tr>\n      <th>1</th>\n      <td>135</td>\n      <td>201701</td>\n      <td>4호선</td>\n      <td>동대문</td>\n      <td>689481</td>\n      <td>707144</td>\n      <td>37.571664</td>\n      <td>127.010618</td>\n      <td>1호선</td>\n      <td>동대문</td>\n      <td>종로구</td>\n    </tr>\n    <tr>\n      <th>2</th>\n      <td>564</td>\n      <td>201702</td>\n      <td>1호선</td>\n      <td>동대문</td>\n      <td>435123</td>\n      <td>496961</td>\n      <td>37.571664</td>\n      <td>127.010618</td>\n      <td>1호선</td>\n      <td>동대문</td>\n      <td>종로구</td>\n    </tr>\n    <tr>\n      <th>3</th>\n      <td>699</td>\n      <td>201702</td>\n      <td>4호선</td>\n      <td>동대문</td>\n      <td>727740</td>\n      <td>743728</td>\n      <td>37.571664</td>\n      <td>127.010618</td>\n      <td>1호선</td>\n      <td>동대문</td>\n      <td>종로구</td>\n    </tr>\n    <tr>\n      <th>4</th>\n      <td>1127</td>\n      <td>201703</td>\n      <td>1호선</td>\n      <td>동대문</td>\n      <td>514558</td>\n      <td>587333</td>\n      <td>37.571664</td>\n      <td>127.010618</td>\n      <td>1호선</td>\n      <td>동대문</td>\n      <td>종로구</td>\n    </tr>\n    <tr>\n      <th>...</th>\n      <td>...</td>\n      <td>...</td>\n      <td>...</td>\n      <td>...</td>\n      <td>...</td>\n      <td>...</td>\n      <td>...</td>\n      <td>...</td>\n      <td>...</td>\n      <td>...</td>\n      <td>...</td>\n    </tr>\n    <tr>\n      <th>11959</th>\n      <td>17906</td>\n      <td>201907</td>\n      <td>우이신설선</td>\n      <td>화계</td>\n      <td>105610</td>\n      <td>98705</td>\n      <td>37.634084</td>\n      <td>127.017492</td>\n      <td>우이신설</td>\n      <td>화계</td>\n      <td>강북구</td>\n    </tr>\n    <tr>\n      <th>11960</th>\n      <td>18497</td>\n      <td>201908</td>\n      <td>우이신설선</td>\n      <td>화계</td>\n      <td>99632</td>\n      <td>93308</td>\n      <td>37.634084</td>\n      <td>127.017492</td>\n      <td>우이신설</td>\n      <td>화계</td>\n      <td>강북구</td>\n    </tr>\n    <tr>\n      <th>11961</th>\n      <td>19087</td>\n      <td>201909</td>\n      <td>우이신설선</td>\n      <td>화계</td>\n      <td>99026</td>\n      <td>92317</td>\n      <td>37.634084</td>\n      <td>127.017492</td>\n      <td>우이신설</td>\n      <td>화계</td>\n      <td>강북구</td>\n    </tr>\n    <tr>\n      <th>11962</th>\n      <td>19678</td>\n      <td>201910</td>\n      <td>우이신설선</td>\n      <td>화계</td>\n      <td>109429</td>\n      <td>101575</td>\n      <td>37.634084</td>\n      <td>127.017492</td>\n      <td>우이신설</td>\n      <td>화계</td>\n      <td>강북구</td>\n    </tr>\n    <tr>\n      <th>11963</th>\n      <td>20268</td>\n      <td>201911</td>\n      <td>우이신설선</td>\n      <td>화계</td>\n      <td>103988</td>\n      <td>97004</td>\n      <td>37.634084</td>\n      <td>127.017492</td>\n      <td>우이신설</td>\n      <td>화계</td>\n      <td>강북구</td>\n    </tr>\n  </tbody>\n</table>\n<p>11964 rows × 11 columns</p>\n</div>"
     },
     "metadata": {},
     "execution_count": 74
    }
   ],
   "source": [
    "subway = subway.merge(sub_loc, left_on='name', right_on = '역명')\n",
    "subway"
   ]
  },
  {
   "cell_type": "code",
   "execution_count": 75,
   "metadata": {},
   "outputs": [],
   "source": [
    "subway.drop('line', axis=1, inplace = True)\n",
    "subway.drop('Unnamed: 0', axis=1, inplace = True)\n",
    "subway.drop('역명', axis=1, inplace = True)\n",
    "# subway[subway['name']== '동대문']"
   ]
  },
  {
   "cell_type": "code",
   "execution_count": 82,
   "metadata": {},
   "outputs": [],
   "source": [
    "subway1 = subway.groupby(['date', 'name']).sum()\n",
    "\n"
   ]
  },
  {
   "cell_type": "code",
   "execution_count": 83,
   "metadata": {},
   "outputs": [],
   "source": [
    "subway1.reset_index(inplace = True)\n"
   ]
  },
  {
   "cell_type": "code",
   "execution_count": 89,
   "metadata": {},
   "outputs": [
    {
     "output_type": "execute_result",
     "data": {
      "text/plain": "        date     name  index    geton   getoff\n0     201701     가락시장   6167   504461   533305\n1     201701  가산디지털단지   1175  1631799  1709562\n2     201701       가양  10026   602131   578842\n3     201701       가좌  11196   123861   115923\n4     201701       강남   1112  3132733  3136516\n...      ...      ...    ...      ...      ...\n9408  201911      화랑대   8406   423533   318510\n9409  201911       회기  11720   968012   930431\n9410  201911       회현   5349   939697   998812\n9411  201911    효창공원앞  16951   323312   313738\n9412  201911       흑석  10705   344412   349276\n\n[9413 rows x 5 columns]",
      "text/html": "<div>\n<style scoped>\n    .dataframe tbody tr th:only-of-type {\n        vertical-align: middle;\n    }\n\n    .dataframe tbody tr th {\n        vertical-align: top;\n    }\n\n    .dataframe thead th {\n        text-align: right;\n    }\n</style>\n<table border=\"1\" class=\"dataframe\">\n  <thead>\n    <tr style=\"text-align: right;\">\n      <th></th>\n      <th>date</th>\n      <th>name</th>\n      <th>index</th>\n      <th>geton</th>\n      <th>getoff</th>\n    </tr>\n  </thead>\n  <tbody>\n    <tr>\n      <th>0</th>\n      <td>201701</td>\n      <td>가락시장</td>\n      <td>6167</td>\n      <td>504461</td>\n      <td>533305</td>\n    </tr>\n    <tr>\n      <th>1</th>\n      <td>201701</td>\n      <td>가산디지털단지</td>\n      <td>1175</td>\n      <td>1631799</td>\n      <td>1709562</td>\n    </tr>\n    <tr>\n      <th>2</th>\n      <td>201701</td>\n      <td>가양</td>\n      <td>10026</td>\n      <td>602131</td>\n      <td>578842</td>\n    </tr>\n    <tr>\n      <th>3</th>\n      <td>201701</td>\n      <td>가좌</td>\n      <td>11196</td>\n      <td>123861</td>\n      <td>115923</td>\n    </tr>\n    <tr>\n      <th>4</th>\n      <td>201701</td>\n      <td>강남</td>\n      <td>1112</td>\n      <td>3132733</td>\n      <td>3136516</td>\n    </tr>\n    <tr>\n      <th>...</th>\n      <td>...</td>\n      <td>...</td>\n      <td>...</td>\n      <td>...</td>\n      <td>...</td>\n    </tr>\n    <tr>\n      <th>9408</th>\n      <td>201911</td>\n      <td>화랑대</td>\n      <td>8406</td>\n      <td>423533</td>\n      <td>318510</td>\n    </tr>\n    <tr>\n      <th>9409</th>\n      <td>201911</td>\n      <td>회기</td>\n      <td>11720</td>\n      <td>968012</td>\n      <td>930431</td>\n    </tr>\n    <tr>\n      <th>9410</th>\n      <td>201911</td>\n      <td>회현</td>\n      <td>5349</td>\n      <td>939697</td>\n      <td>998812</td>\n    </tr>\n    <tr>\n      <th>9411</th>\n      <td>201911</td>\n      <td>효창공원앞</td>\n      <td>16951</td>\n      <td>323312</td>\n      <td>313738</td>\n    </tr>\n    <tr>\n      <th>9412</th>\n      <td>201911</td>\n      <td>흑석</td>\n      <td>10705</td>\n      <td>344412</td>\n      <td>349276</td>\n    </tr>\n  </tbody>\n</table>\n<p>9413 rows × 5 columns</p>\n</div>"
     },
     "metadata": {},
     "execution_count": 89
    }
   ],
   "source": [
    "# subway1.drop('위도', axis=1, inplace = True)\n",
    "# subway1.drop('경도', axis=1, inplace = True)\n",
    "\n",
    "subway1"
   ]
  },
  {
   "cell_type": "code",
   "execution_count": 99,
   "metadata": {},
   "outputs": [],
   "source": [
    "subway_loc = pd.read_csv('subway_location.csv', encoding='cp949')\n",
    "subway_loc[sub_loc['역이름'] == '사당역']\n",
    "\n",
    "subway_loc.drop_duplicates(['역이름'], keep = 'first',inplace = True)"
   ]
  },
  {
   "cell_type": "code",
   "execution_count": 101,
   "metadata": {},
   "outputs": [
    {
     "output_type": "execute_result",
     "data": {
      "text/plain": "    역이름         위도         경도\n41  사당역  37.476553  126.98155",
      "text/html": "<div>\n<style scoped>\n    .dataframe tbody tr th:only-of-type {\n        vertical-align: middle;\n    }\n\n    .dataframe tbody tr th {\n        vertical-align: top;\n    }\n\n    .dataframe thead th {\n        text-align: right;\n    }\n</style>\n<table border=\"1\" class=\"dataframe\">\n  <thead>\n    <tr style=\"text-align: right;\">\n      <th></th>\n      <th>역이름</th>\n      <th>위도</th>\n      <th>경도</th>\n    </tr>\n  </thead>\n  <tbody>\n    <tr>\n      <th>41</th>\n      <td>사당역</td>\n      <td>37.476553</td>\n      <td>126.98155</td>\n    </tr>\n  </tbody>\n</table>\n</div>"
     },
     "metadata": {},
     "execution_count": 101
    }
   ],
   "source": [
    "subway_loc[sub_loc['역이름'] == '사당역']"
   ]
  },
  {
   "cell_type": "code",
   "execution_count": 103,
   "metadata": {},
   "outputs": [],
   "source": [
    "station_name = [] \n",
    "for name in subway_loc['역이름']:\n",
    "    station_name.append(str(name[:-1]))\n",
    "station_name\n",
    "\n",
    "subway_loc['역이름'] = station_name\n",
    "\n"
   ]
  },
  {
   "cell_type": "code",
   "execution_count": 108,
   "metadata": {},
   "outputs": [
    {
     "output_type": "execute_result",
     "data": {
      "text/plain": "        date  name  index   geton  getoff   역이름         위도          경도\n0     201701  가락시장   6167  504461  533305  가락시장  37.493092  127.118258\n1     201702  가락시장   6171  490545  516910  가락시장  37.493092  127.118258\n2     201703  가락시장   6175  556803  588400  가락시장  37.493092  127.118258\n3     201704  가락시장   6179  530439  558838  가락시장  37.493092  127.118258\n4     201705  가락시장   6183  525689  555847  가락시장  37.493092  127.118258\n...      ...   ...    ...     ...     ...   ...        ...         ...\n9408  201907    화계  11959  105610   98705    화계  37.634084  127.017492\n9409  201908    화계  11960   99632   93308    화계  37.634084  127.017492\n9410  201909    화계  11961   99026   92317    화계  37.634084  127.017492\n9411  201910    화계  11962  109429  101575    화계  37.634084  127.017492\n9412  201911    화계  11963  103988   97004    화계  37.634084  127.017492\n\n[9413 rows x 8 columns]",
      "text/html": "<div>\n<style scoped>\n    .dataframe tbody tr th:only-of-type {\n        vertical-align: middle;\n    }\n\n    .dataframe tbody tr th {\n        vertical-align: top;\n    }\n\n    .dataframe thead th {\n        text-align: right;\n    }\n</style>\n<table border=\"1\" class=\"dataframe\">\n  <thead>\n    <tr style=\"text-align: right;\">\n      <th></th>\n      <th>date</th>\n      <th>name</th>\n      <th>index</th>\n      <th>geton</th>\n      <th>getoff</th>\n      <th>역이름</th>\n      <th>위도</th>\n      <th>경도</th>\n    </tr>\n  </thead>\n  <tbody>\n    <tr>\n      <th>0</th>\n      <td>201701</td>\n      <td>가락시장</td>\n      <td>6167</td>\n      <td>504461</td>\n      <td>533305</td>\n      <td>가락시장</td>\n      <td>37.493092</td>\n      <td>127.118258</td>\n    </tr>\n    <tr>\n      <th>1</th>\n      <td>201702</td>\n      <td>가락시장</td>\n      <td>6171</td>\n      <td>490545</td>\n      <td>516910</td>\n      <td>가락시장</td>\n      <td>37.493092</td>\n      <td>127.118258</td>\n    </tr>\n    <tr>\n      <th>2</th>\n      <td>201703</td>\n      <td>가락시장</td>\n      <td>6175</td>\n      <td>556803</td>\n      <td>588400</td>\n      <td>가락시장</td>\n      <td>37.493092</td>\n      <td>127.118258</td>\n    </tr>\n    <tr>\n      <th>3</th>\n      <td>201704</td>\n      <td>가락시장</td>\n      <td>6179</td>\n      <td>530439</td>\n      <td>558838</td>\n      <td>가락시장</td>\n      <td>37.493092</td>\n      <td>127.118258</td>\n    </tr>\n    <tr>\n      <th>4</th>\n      <td>201705</td>\n      <td>가락시장</td>\n      <td>6183</td>\n      <td>525689</td>\n      <td>555847</td>\n      <td>가락시장</td>\n      <td>37.493092</td>\n      <td>127.118258</td>\n    </tr>\n    <tr>\n      <th>...</th>\n      <td>...</td>\n      <td>...</td>\n      <td>...</td>\n      <td>...</td>\n      <td>...</td>\n      <td>...</td>\n      <td>...</td>\n      <td>...</td>\n    </tr>\n    <tr>\n      <th>9408</th>\n      <td>201907</td>\n      <td>화계</td>\n      <td>11959</td>\n      <td>105610</td>\n      <td>98705</td>\n      <td>화계</td>\n      <td>37.634084</td>\n      <td>127.017492</td>\n    </tr>\n    <tr>\n      <th>9409</th>\n      <td>201908</td>\n      <td>화계</td>\n      <td>11960</td>\n      <td>99632</td>\n      <td>93308</td>\n      <td>화계</td>\n      <td>37.634084</td>\n      <td>127.017492</td>\n    </tr>\n    <tr>\n      <th>9410</th>\n      <td>201909</td>\n      <td>화계</td>\n      <td>11961</td>\n      <td>99026</td>\n      <td>92317</td>\n      <td>화계</td>\n      <td>37.634084</td>\n      <td>127.017492</td>\n    </tr>\n    <tr>\n      <th>9411</th>\n      <td>201910</td>\n      <td>화계</td>\n      <td>11962</td>\n      <td>109429</td>\n      <td>101575</td>\n      <td>화계</td>\n      <td>37.634084</td>\n      <td>127.017492</td>\n    </tr>\n    <tr>\n      <th>9412</th>\n      <td>201911</td>\n      <td>화계</td>\n      <td>11963</td>\n      <td>103988</td>\n      <td>97004</td>\n      <td>화계</td>\n      <td>37.634084</td>\n      <td>127.017492</td>\n    </tr>\n  </tbody>\n</table>\n<p>9413 rows × 8 columns</p>\n</div>"
     },
     "metadata": {},
     "execution_count": 108
    }
   ],
   "source": [
    "# subway1 = subway1.merge(subway_loc, left_on='name', right_on='역이름')\n",
    "subway1 = subway1.merge(sub_loc, left_on='name', right_on ='역명')\n"
   ]
  },
  {
   "cell_type": "code",
   "execution_count": 115,
   "metadata": {},
   "outputs": [],
   "source": [
    "subway1.drop('역이름', axis = 1 ,inplace = True)\n",
    "subway1.drop('index', axis = 1 ,inplace = True)\n",
    "subway1.drop('역명', axis = 1 ,inplace = True)\n"
   ]
  },
  {
   "cell_type": "code",
   "execution_count": 123,
   "metadata": {},
   "outputs": [],
   "source": [
    "subway2 = subway1.sort_values(['date', 'name'])"
   ]
  },
  {
   "cell_type": "code",
   "execution_count": 125,
   "metadata": {},
   "outputs": [],
   "source": [
    "subway2.to_csv('subway_final_final.csv', index = False, encoding = 'cp949')"
   ]
  },
  {
   "cell_type": "code",
   "execution_count": null,
   "metadata": {},
   "outputs": [],
   "source": []
  }
 ],
 "metadata": {
  "language_info": {
   "codemirror_mode": {
    "name": "ipython",
    "version": 3
   },
   "file_extension": ".py",
   "mimetype": "text/x-python",
   "name": "python",
   "nbconvert_exporter": "python",
   "pygments_lexer": "ipython3",
   "version": "3.7.7-final"
  },
  "orig_nbformat": 2,
  "kernelspec": {
   "name": "python37764bit4dda73a9a4c74a0399c4c617d3b49df0",
   "display_name": "Python 3.7.7 64-bit"
  }
 },
 "nbformat": 4,
 "nbformat_minor": 2
}